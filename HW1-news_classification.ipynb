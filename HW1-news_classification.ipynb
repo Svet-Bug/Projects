{
 "cells": [
  {
   "cell_type": "markdown",
   "metadata": {},
   "source": [
    "В этом дз необходимо обучить модели для классификации. Cегодня попробуем отличать настоящие новости от фейковых\n",
    "\n"
   ]
  },
  {
   "cell_type": "code",
   "execution_count": 8,
   "metadata": {},
   "outputs": [],
   "source": [
    "# ячейка импортов\n",
    "\n",
    "import numpy as np\n",
    "import pandas as pd\n",
    "\n",
    "# импорт моделей\n",
    "from sklearn import feature_extraction, model_selection, naive_bayes, metrics, svm\n",
    "from sklearn.tree import DecisionTreeClassifier\n",
    "from sklearn.ensemble import RandomForestClassifier, GradientBoostingClassifier\n",
    "\n",
    "from sklearn.metrics import classification_report # табличка с метриками\n",
    "\n",
    "import matplotlib.pyplot as plt\n",
    "from collections import Counter\n",
    "\n",
    "# import warnings\n",
    "# warnings.filterwarnings(\"ignore\")\n",
    "# %matplotlib inline "
   ]
  },
  {
   "cell_type": "markdown",
   "metadata": {},
   "source": [
    "# Exploratory Data Analysis (EDA)\n",
    "\n"
   ]
  },
  {
   "cell_type": "code",
   "execution_count": 11,
   "metadata": {},
   "outputs": [
    {
     "name": "stdout",
     "output_type": "stream",
     "text": [
      "Archive:  news_fake-n-true.csv.zip\n",
      "  inflating: news_fake-n-true.csv    \n",
      "  inflating: __MACOSX/._news_fake-n-true.csv  \n"
     ]
    }
   ],
   "source": [
    "! unzip \"news_fake-n-true.csv.zip\""
   ]
  },
  {
   "cell_type": "code",
   "execution_count": 12,
   "metadata": {},
   "outputs": [
    {
     "data": {
      "text/html": [
       "<div>\n",
       "<style scoped>\n",
       "    .dataframe tbody tr th:only-of-type {\n",
       "        vertical-align: middle;\n",
       "    }\n",
       "\n",
       "    .dataframe tbody tr th {\n",
       "        vertical-align: top;\n",
       "    }\n",
       "\n",
       "    .dataframe thead th {\n",
       "        text-align: right;\n",
       "    }\n",
       "</style>\n",
       "<table border=\"1\" class=\"dataframe\">\n",
       "  <thead>\n",
       "    <tr style=\"text-align: right;\">\n",
       "      <th></th>\n",
       "      <th>Unnamed: 0</th>\n",
       "      <th>title</th>\n",
       "      <th>text</th>\n",
       "      <th>subject</th>\n",
       "      <th>date</th>\n",
       "      <th>label</th>\n",
       "    </tr>\n",
       "  </thead>\n",
       "  <tbody>\n",
       "    <tr>\n",
       "      <th>0</th>\n",
       "      <td>0</td>\n",
       "      <td>ADVISORY: Story on Kushner visiting Iraq withd...</td>\n",
       "      <td>(Reuters) - The story “Trump son-in-law Jared ...</td>\n",
       "      <td>politicsNews</td>\n",
       "      <td>April 3, 2017</td>\n",
       "      <td>1</td>\n",
       "    </tr>\n",
       "    <tr>\n",
       "      <th>1</th>\n",
       "      <td>1</td>\n",
       "      <td>Kasich campaign denies report of Romney endors...</td>\n",
       "      <td>WASHINGTON (Reuters) - Republican presidential...</td>\n",
       "      <td>politicsNews</td>\n",
       "      <td>March 14, 2016</td>\n",
       "      <td>1</td>\n",
       "    </tr>\n",
       "    <tr>\n",
       "      <th>2</th>\n",
       "      <td>2</td>\n",
       "      <td>WATCH: Colbert Devises Perfect Advertisement ...</td>\n",
       "      <td>If America is going to end the day Donald Trum...</td>\n",
       "      <td>News</td>\n",
       "      <td>May 20, 2016</td>\n",
       "      <td>0</td>\n",
       "    </tr>\n",
       "    <tr>\n",
       "      <th>3</th>\n",
       "      <td>3</td>\n",
       "      <td>Trump says hopes for Cuban 'freedom' after Cas...</td>\n",
       "      <td>WEST PALM BEACH, Fla. (Reuters) - U.S. Preside...</td>\n",
       "      <td>politicsNews</td>\n",
       "      <td>November 26, 2016</td>\n",
       "      <td>1</td>\n",
       "    </tr>\n",
       "  </tbody>\n",
       "</table>\n",
       "</div>"
      ],
      "text/plain": [
       "   Unnamed: 0                                              title  \\\n",
       "0           0  ADVISORY: Story on Kushner visiting Iraq withd...   \n",
       "1           1  Kasich campaign denies report of Romney endors...   \n",
       "2           2   WATCH: Colbert Devises Perfect Advertisement ...   \n",
       "3           3  Trump says hopes for Cuban 'freedom' after Cas...   \n",
       "\n",
       "                                                text       subject  \\\n",
       "0  (Reuters) - The story “Trump son-in-law Jared ...  politicsNews   \n",
       "1  WASHINGTON (Reuters) - Republican presidential...  politicsNews   \n",
       "2  If America is going to end the day Donald Trum...          News   \n",
       "3  WEST PALM BEACH, Fla. (Reuters) - U.S. Preside...  politicsNews   \n",
       "\n",
       "                 date  label  \n",
       "0      April 3, 2017       1  \n",
       "1     March 14, 2016       1  \n",
       "2        May 20, 2016      0  \n",
       "3  November 26, 2016       1  "
      ]
     },
     "execution_count": 12,
     "metadata": {},
     "output_type": "execute_result"
    }
   ],
   "source": [
    "data = pd.read_csv(\"news_fake-n-true.csv\")\n",
    "data.head(4)"
   ]
  },
  {
   "cell_type": "markdown",
   "metadata": {},
   "source": [
    "**колонка label отвечает за тип новости: настоящие имеют лейбл 1,  фейковые новости -- с лейблом 0** "
   ]
  },
  {
   "cell_type": "code",
   "execution_count": 13,
   "metadata": {},
   "outputs": [
    {
     "data": {
      "text/html": [
       "<div>\n",
       "<style scoped>\n",
       "    .dataframe tbody tr th:only-of-type {\n",
       "        vertical-align: middle;\n",
       "    }\n",
       "\n",
       "    .dataframe tbody tr th {\n",
       "        vertical-align: top;\n",
       "    }\n",
       "\n",
       "    .dataframe thead th {\n",
       "        text-align: right;\n",
       "    }\n",
       "</style>\n",
       "<table border=\"1\" class=\"dataframe\">\n",
       "  <thead>\n",
       "    <tr style=\"text-align: right;\">\n",
       "      <th></th>\n",
       "      <th>text</th>\n",
       "      <th>label</th>\n",
       "    </tr>\n",
       "  </thead>\n",
       "  <tbody>\n",
       "    <tr>\n",
       "      <th>0</th>\n",
       "      <td>(Reuters) - The story “Trump son-in-law Jared ...</td>\n",
       "      <td>1</td>\n",
       "    </tr>\n",
       "    <tr>\n",
       "      <th>1</th>\n",
       "      <td>WASHINGTON (Reuters) - Republican presidential...</td>\n",
       "      <td>1</td>\n",
       "    </tr>\n",
       "    <tr>\n",
       "      <th>2</th>\n",
       "      <td>If America is going to end the day Donald Trum...</td>\n",
       "      <td>0</td>\n",
       "    </tr>\n",
       "    <tr>\n",
       "      <th>3</th>\n",
       "      <td>WEST PALM BEACH, Fla. (Reuters) - U.S. Preside...</td>\n",
       "      <td>1</td>\n",
       "    </tr>\n",
       "    <tr>\n",
       "      <th>4</th>\n",
       "      <td>Well, it seems that despite the efforts of not...</td>\n",
       "      <td>0</td>\n",
       "    </tr>\n",
       "    <tr>\n",
       "      <th>...</th>\n",
       "      <td>...</td>\n",
       "      <td>...</td>\n",
       "    </tr>\n",
       "    <tr>\n",
       "      <th>44893</th>\n",
       "      <td>Donald Trump s economic proposals would be dis...</td>\n",
       "      <td>0</td>\n",
       "    </tr>\n",
       "    <tr>\n",
       "      <th>44894</th>\n",
       "      <td>INDIANAPOLIS (Reuters) - President Donald Trum...</td>\n",
       "      <td>1</td>\n",
       "    </tr>\n",
       "    <tr>\n",
       "      <th>44895</th>\n",
       "      <td>During a private meeting of the most senior Re...</td>\n",
       "      <td>0</td>\n",
       "    </tr>\n",
       "    <tr>\n",
       "      <th>44896</th>\n",
       "      <td>AMMAN (Reuters) - Sabih al-Masri, Jordan s mos...</td>\n",
       "      <td>1</td>\n",
       "    </tr>\n",
       "    <tr>\n",
       "      <th>44897</th>\n",
       "      <td>BEIRUT (Reuters) - Lebanese President Michel A...</td>\n",
       "      <td>1</td>\n",
       "    </tr>\n",
       "  </tbody>\n",
       "</table>\n",
       "<p>44898 rows × 2 columns</p>\n",
       "</div>"
      ],
      "text/plain": [
       "                                                    text  label\n",
       "0      (Reuters) - The story “Trump son-in-law Jared ...      1\n",
       "1      WASHINGTON (Reuters) - Republican presidential...      1\n",
       "2      If America is going to end the day Donald Trum...      0\n",
       "3      WEST PALM BEACH, Fla. (Reuters) - U.S. Preside...      1\n",
       "4      Well, it seems that despite the efforts of not...      0\n",
       "...                                                  ...    ...\n",
       "44893  Donald Trump s economic proposals would be dis...      0\n",
       "44894  INDIANAPOLIS (Reuters) - President Donald Trum...      1\n",
       "44895  During a private meeting of the most senior Re...      0\n",
       "44896  AMMAN (Reuters) - Sabih al-Masri, Jordan s mos...      1\n",
       "44897  BEIRUT (Reuters) - Lebanese President Michel A...      1\n",
       "\n",
       "[44898 rows x 2 columns]"
      ]
     },
     "metadata": {},
     "output_type": "display_data"
    }
   ],
   "source": [
    "# создадим новый датафрейм из старого\n",
    "\n",
    "data_clean = data.drop(['Unnamed: 0','title','subject','date'], axis=1)\n",
    "\n",
    "display(data_clean)"
   ]
  },
  {
   "cell_type": "markdown",
   "metadata": {},
   "source": [
    "распределение настоящих и фейковых новостей примерно равное"
   ]
  },
  {
   "cell_type": "code",
   "execution_count": 14,
   "metadata": {},
   "outputs": [
    {
     "data": {
      "image/png": "[encoded data removed]",
      "text/plain": [
       "<Figure size 432x288 with 1 Axes>"
      ]
     },
     "metadata": {},
     "output_type": "display_data"
    }
   ],
   "source": [
    "classes =pd.value_counts(data_clean[\"label\"])\n",
    "\n",
    "classes.plot(kind = 'pie',  autopct='%0.f%%') \n",
    "plt.title(\"Classes distribution\")\n",
    "plt.ylabel('')\n",
    "\n",
    "plt.show()"
   ]
  },
  {
   "cell_type": "markdown",
   "metadata": {},
   "source": [
    "**давайте попробуем предсказать:** окажется ли текст настоящей новостью или фейковой\n",
    "\n",
    "- Векторизуйте тексты\n",
    "- Разделите данные на обучающую и тестовую выборку\n",
    "\n",
    "Попробуйте обучить разные модели для классификации на данных\n",
    "1. Naive Bayes\n",
    "2. SVM \n",
    "3. Decision Trees\n",
    "4. Random Forest\n",
    "5. Boosting\n",
    "\n",
    "Для каждой модели посмотрите на метрики с помощью функции [classification report](https://scikit-learn.org/stable/modules/generated/sklearn.metrics.classification_report.html).\n",
    "\n",
    "Какая/какие модель/ли справляются с задачей наиболее эффективно?"
   ]
  },
  {
   "cell_type": "code",
   "execution_count": null,
   "metadata": {},
   "outputs": [],
   "source": []
  }
 ],
 "metadata": {
  "kernelspec": {
   "display_name": "Python 3",
   "language": "python",
   "name": "python3"
  },
  "language_info": {
   "codemirror_mode": {
    "name": "ipython",
    "version": 3
   },
   "file_extension": ".py",
   "mimetype": "text/x-python",
   "name": "python",
   "nbconvert_exporter": "python",
   "pygments_lexer": "ipython3",
   "version": "3.8.2"
  }
 },
 "nbformat": 4,
 "nbformat_minor": 4
}
